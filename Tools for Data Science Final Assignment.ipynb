{
 "cells": [
  {
   "cell_type": "markdown",
   "metadata": {},
   "source": [
    "<center>\n",
    "    <img src=\"https://cf-courses-data.s3.us.cloud-object-storage.appdomain.cloud/IBMDeveloperSkillsNetwork-DS0105EN-SkillsNetwork/labs/Module2/images/SN_web_lightmode.png\" width=\"300\" alt=\"cognitiveclass.ai logo\"  />\n",
    "</center>\n"
   ]
  },
  {
   "cell_type": "markdown",
   "metadata": {},
   "source": [
    "#### Add your code below following the instructions given in the course\n"
   ]
  },
  {
   "cell_type": "markdown",
   "metadata": {
    "tags": []
   },
   "source": [
    "# My Jupyter Notebook on IBM Watson Studio"
   ]
  },
  {
   "cell_type": "markdown",
   "metadata": {},
   "source": [
    "**Ben Stewart**\n",
    "Senior Manager"
   ]
  },
  {
   "cell_type": "markdown",
   "metadata": {},
   "source": [
    "*I am interested in data science because I work with data regularly and would like to expand my toolkit to work with larger datasets and use more sophisticated and powerful tools*"
   ]
  },
  {
   "cell_type": "markdown",
   "metadata": {},
   "source": [
    "Data Science Languages:\n",
    " * Python\n",
    " * R\n",
    " * Julia\n",
    " * JavaScript\n",
    " * SQL"
   ]
  },
  {
   "cell_type": "markdown",
   "metadata": {},
   "source": [
    "Data Science Libraries:\n",
    " * Tensor Flow\n",
    " * SciKit Learn\n",
    " * PyTorch\n",
    " * Numpy\n",
    " * Pandas\n",
    " * Matplotlib"
   ]
  },
  {
   "cell_type": "markdown",
   "metadata": {},
   "source": [
    "Data Science Tools:\n",
    "\n",
    "| Tool Name |\n",
    "| --- |\n",
    "| Matlab |\n",
    "| Excel |\n",
    "| SAS |\n",
    "| Apache Spark |"
   ]
  },
  {
   "cell_type": "markdown",
   "metadata": {},
   "source": [
    "Arithmetic expressions:\n",
    " * a + b\n",
    " * a - b\n",
    " * a * b\n",
    " * a / b"
   ]
  },
  {
   "cell_type": "code",
   "execution_count": 4,
   "metadata": {},
   "outputs": [
    {
     "name": "stdout",
     "output_type": "stream",
     "text": [
      "92\n"
     ]
    }
   ],
   "source": [
    "# The code below will multiply and add numbers\n",
    "a = 9\n",
    "b = 10\n",
    "c = 2\n",
    "result = a * b + c\n",
    "print(result)"
   ]
  },
  {
   "cell_type": "code",
   "execution_count": 5,
   "metadata": {},
   "outputs": [
    {
     "name": "stdout",
     "output_type": "stream",
     "text": [
      "307052570.56666666\n"
     ]
    }
   ],
   "source": [
    "# The code below will convert minutes to hours\n",
    "input_minutes = 18423154234\n",
    "min_p_hr = 60\n",
    "conv_hours = input_minutes / min_p_hr\n",
    "print(conv_hours)"
   ]
  },
  {
   "cell_type": "markdown",
   "metadata": {},
   "source": [
    "This cell is intended to list Objectives:\n",
    " * Cite popular open source, commercial, and cloud-based tools used by data scientists.\n",
    " * Explain the function of an API and list some common API-related terms.\n",
    " * Discuss the characteristics of a dataset and the ways data can be structured.\n",
    " * Identify  some of the libraries used in data science and the types of functionalities a library can provide.\n",
    " * Compare and contrast between machine learning, deep learning and their use cases.\n",
    " * Discuss the different classes of machine learning models.\n",
    " * Summarize the advantages of using a pre-trained model as opposed to training a model from scratch.\n",
    " * Identify the languages, tools, and data used by data scientists.\n",
    " * Access and explore data sets in the Data Asset Exchange (DAX).\n",
    " * Examine deep learning models on the Model Asset Exchange (MAX) and interact with an image-detection deep learning model."
   ]
  },
  {
   "cell_type": "markdown",
   "metadata": {},
   "source": [
    "Author: Benjamin Stewart"
   ]
  },
  {
   "cell_type": "markdown",
   "metadata": {},
   "source": [
    "The cells below were completed based on the assignment requirements provided in the original assignment.  The cells above are based on the assignment requirements listed in the actual submission list."
   ]
  },
  {
   "cell_type": "markdown",
   "metadata": {},
   "source": [
    "### The code below will print a values 1 - 10 "
   ]
  },
  {
   "cell_type": "code",
   "execution_count": 4,
   "metadata": {},
   "outputs": [
    {
     "name": "stdout",
     "output_type": "stream",
     "text": [
      "1\n",
      "2\n",
      "3\n",
      "4\n",
      "5\n",
      "6\n",
      "7\n",
      "8\n",
      "9\n",
      "10\n"
     ]
    }
   ],
   "source": [
    "values = range(1,11)\n",
    "for v in values:\n",
    "    print(v)"
   ]
  },
  {
   "cell_type": "markdown",
   "metadata": {},
   "source": [
    "***\n",
    "Text in a horizontal rule\n",
    "***\n",
    "* This is a bulleted list\n",
    "* This is the second item in the bulleted list\n",
    "* This is the third item in the bulleted list\n",
    "\n",
    "1. And this is the first item in a numbered list\n",
    "2. This is the second item in a numbered list\n",
    "\n",
    "And that concludes the three items needed in this final cell"
   ]
  }
 ],
 "metadata": {
  "kernelspec": {
   "display_name": "Python 3 (ipykernel)",
   "language": "python",
   "name": "python3"
  },
  "language_info": {
   "codemirror_mode": {
    "name": "ipython",
    "version": 3
   },
   "file_extension": ".py",
   "mimetype": "text/x-python",
   "name": "python",
   "nbconvert_exporter": "python",
   "pygments_lexer": "ipython3",
   "version": "3.9.13"
  }
 },
 "nbformat": 4,
 "nbformat_minor": 4
}
